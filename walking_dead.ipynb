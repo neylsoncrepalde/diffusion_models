{
 "cells": [
  {
   "cell_type": "markdown",
   "metadata": {},
   "source": [
    "# The Walking DEAD - modelizando um apocalipse zumbi!\n",
    "\n",
    "Por uma série de motivos (inclua-se aqui meu problema de pesquisa de tese, curiosidade sobre ABM's, o vício da minha cunhada em Netflix) cheguei até o excelente artigo de Riebling e Schmitz (2016) intitulado **ZombieApocalypse: Modeling the social dynamics of infection and rejection.** O artigo é aberto e pode ser visualizado [aqui](http://journals.sagepub.com/doi/full/10.1177/2059799115622767). Sua ideia é bastante engenhosa: eles usam um modelo de difusão em redes (*network diffusion model*) para modelizar o alastrar de uma infecção zumbi generalizada. Neste post, vamos replicar uma versão simples do modelo tentando entender a implementação de um modelo de simulação computacional de agentes em redes. \n",
    "\n",
    "Os modelos de difusão são amplamente utilizados para estudar padrões de infecção e contágio na área da saúde utilizando técnicas da Análise de Redes Sociais (ARS). São um tipo de *Agent Based Modelin* ou Modelagem Baseada em Agentes, modelos onde agentes e suas ações são simulados computacionalmente. O [Rogério Barbosa](https://www.facebook.com/rogerio.barbosa.7528) tem uma série de posts muito bons sobre o método que podem ser vistos [aqui](https://sociaisemetodos.wordpress.com/2016/04/20/cachorros-artificiais-agentes-de-agent-based-modeling-usando-r-parte-1/). Na implementação desse tipo de modelos, o pesquisador programa as características dos agentes e do mundo social mais fundamentais de que precisa para tentar entender como os fenômenos no nível macro emergem das interações.\n",
    "\n",
    "Para simular o *The Walking Dead*, vamos usar a distribuição Anaconda do Python 3.5. A distribuição pode ser baixada [aqui](https://www.continuum.io/downloads). Se é a primeira vez que você instala o Python, é importante instalar também alguns pacotes que não vem como *default* na distro Anaconda.\n",
    "\n",
    "Se você é usuário de Windows, abra o prompt de comando clicando no botão do Windows e pesquisando por `cmd`. Se você é usuário de Ubuntu, abra o terminal com `Ctrl + Alt + t`. Para instalar os pacotes, use os comandos:"
   ]
  },
  {
   "cell_type": "raw",
   "metadata": {},
   "source": [
    "pip install simpy\n",
    "pip install networkx\n",
    "pip install nxsim"
   ]
  },
  {
   "cell_type": "code",
   "execution_count": null,
   "metadata": {
    "collapsed": true
   },
   "outputs": [],
   "source": []
  }
 ],
 "metadata": {
  "anaconda-cloud": {},
  "kernelspec": {
   "display_name": "Python [Root]",
   "language": "python",
   "name": "Python [Root]"
  },
  "language_info": {
   "codemirror_mode": {
    "name": "ipython",
    "version": 3
   },
   "file_extension": ".py",
   "mimetype": "text/x-python",
   "name": "python",
   "nbconvert_exporter": "python",
   "pygments_lexer": "ipython3",
   "version": "3.5.2"
  }
 },
 "nbformat": 4,
 "nbformat_minor": 0
}
